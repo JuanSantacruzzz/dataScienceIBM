{
 "cells": [
  {
   "cell_type": "markdown",
   "id": "86223e99-337b-4f26-9d17-ab07b0627b31",
   "metadata": {},
   "source": [
    "# Data Science Tools and Ecosystem"
   ]
  },
  {
   "cell_type": "markdown",
   "id": "10f5c147-e917-4bfd-91f4-90aab5eb284a",
   "metadata": {},
   "source": [
    "In this notebook, Data Science Tools and Ecosystem are summarized."
   ]
  },
  {
   "cell_type": "markdown",
   "id": "aefd339c-c01b-4f80-ab45-3ecef499182e",
   "metadata": {},
   "source": [
    "**Objectives:**\n",
    "- Languages\n",
    "- Libraries\n",
    "- Tools\n",
    "- Arithmetic Expressions"
   ]
  },
  {
   "cell_type": "markdown",
   "id": "e2c68c56-44b2-4df6-b0d2-c69708b2809d",
   "metadata": {},
   "source": [
    "Some of the popular languages that Data Scientists use are:\n",
    "1. Python\n",
    "2. R\n",
    "3. SQL"
   ]
  },
  {
   "cell_type": "markdown",
   "id": "45e5ff3a-741d-40d4-bd10-9821d5093e30",
   "metadata": {},
   "source": [
    "Some of the commonly used libraries used by Data Scientists include:\n",
    "1. Pandas\n",
    "2. Keras\n",
    "3. Tensorflow"
   ]
  },
  {
   "cell_type": "markdown",
   "id": "1375bd43-0fd1-4565-ba47-80556aedfed8",
   "metadata": {},
   "source": [
    "Data Science Tools\n",
    "\n",
    "| Data Science Tools   |\n",
    "|----------|\n",
    "| Jupyter Notebook      | \n",
    "| RStudio      | \n",
    "| Apache Zeppelin    | "
   ]
  },
  {
   "cell_type": "markdown",
   "id": "30d8c71b-f7f5-4625-96da-60696fe43663",
   "metadata": {},
   "source": [
    "### Below are a few examples of evaluating arithmetic expressions in Python.\n",
    "\n"
   ]
  },
  {
   "cell_type": "code",
   "execution_count": 4,
   "id": "9a639062-6ff8-41ab-b27a-3754bdb89844",
   "metadata": {},
   "outputs": [
    {
     "data": {
      "text/plain": [
       "17"
      ]
     },
     "execution_count": 4,
     "metadata": {},
     "output_type": "execute_result"
    }
   ],
   "source": [
    "# This a simple arithmetic expression to mutiply then add integers\n",
    "(3*4)+5"
   ]
  },
  {
   "cell_type": "code",
   "execution_count": 5,
   "id": "49cad09e-fc4b-4cd9-a7ca-5d551e13d6de",
   "metadata": {},
   "outputs": [
    {
     "data": {
      "text/plain": [
       "3.3333333333333335"
      ]
     },
     "execution_count": 5,
     "metadata": {},
     "output_type": "execute_result"
    }
   ],
   "source": [
    "# This will convert 200 minutes to hours by diving by 60\n",
    "200/60"
   ]
  },
  {
   "cell_type": "markdown",
   "id": "3378b650-97d7-40a6-9d4b-e3c6c0729ab8",
   "metadata": {},
   "source": [
    "## Author\n",
    "Juan Santacruz"
   ]
  }
 ],
 "metadata": {
  "kernelspec": {
   "display_name": "Python 3 (ipykernel)",
   "language": "python",
   "name": "python3"
  },
  "language_info": {
   "codemirror_mode": {
    "name": "ipython",
    "version": 3
   },
   "file_extension": ".py",
   "mimetype": "text/x-python",
   "name": "python",
   "nbconvert_exporter": "python",
   "pygments_lexer": "ipython3",
   "version": "3.12.7"
  }
 },
 "nbformat": 4,
 "nbformat_minor": 5
}
